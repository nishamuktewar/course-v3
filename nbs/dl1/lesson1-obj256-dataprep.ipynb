{
 "cells": [
  {
   "cell_type": "markdown",
   "metadata": {},
   "source": [
    "# Lesson 1 - 256 Caltech data prep"
   ]
  },
  {
   "cell_type": "code",
   "execution_count": 1,
   "metadata": {},
   "outputs": [],
   "source": [
    "%reload_ext autoreload\n",
    "%autoreload 2\n",
    "%matplotlib inline"
   ]
  },
  {
   "cell_type": "markdown",
   "metadata": {},
   "source": [
    "We import all the necessary packages. We are going to work with the [fastai V1 library](http://www.fast.ai/2018/10/02/fastai-ai/) which sits on top of [Pytorch 1.0](https://hackernoon.com/pytorch-1-0-468332ba5163). The fastai library provides many useful functions that enable us to quickly and easily build neural networks and train our models."
   ]
  },
  {
   "cell_type": "code",
   "execution_count": 2,
   "metadata": {},
   "outputs": [],
   "source": [
    "from fastai import *\n",
    "from fastai.vision import *"
   ]
  },
  {
   "cell_type": "markdown",
   "metadata": {},
   "source": [
    "## Looking at the data"
   ]
  },
  {
   "cell_type": "markdown",
   "metadata": {},
   "source": [
    "Data from here http://www.vision.caltech.edu/Image_Datasets/Caltech256/"
   ]
  },
  {
   "cell_type": "code",
   "execution_count": 3,
   "metadata": {},
   "outputs": [
    {
     "name": "stdout",
     "output_type": "stream",
     "text": [
      "  % Total    % Received % Xferd  Average Speed   Time    Time     Time  Current\n",
      "                                 Dload  Upload   Total   Spent    Left  Speed\n",
      "100 1128M  100 1128M    0     0  7327k      0  0:02:37  0:02:37 --:--:-- 12.3M:44  0:02:27  0:00:17 8120k\n"
     ]
    }
   ],
   "source": [
    "!curl -L -O http://www.vision.caltech.edu/Image_Datasets/Caltech256/256_ObjectCategories.tar -o ./data/"
   ]
  },
  {
   "cell_type": "code",
   "execution_count": 5,
   "metadata": {},
   "outputs": [],
   "source": [
    "!tar -xf ./data/256_ObjectCategories.tar -C ./data/"
   ]
  },
  {
   "cell_type": "code",
   "execution_count": 7,
   "metadata": {},
   "outputs": [
    {
     "name": "stdout",
     "output_type": "stream",
     "text": [
      "There are 30608 files in path directory.\n"
     ]
    }
   ],
   "source": [
    "import os\n",
    "path = './data/256_ObjectCategories'\n",
    "x = 0\n",
    "for root, dirs, files in os.walk(path):\n",
    "    for f in files:\n",
    "        x += 1\n",
    "print(f\"There are {x} files in path directory.\")"
   ]
  },
  {
   "cell_type": "code",
   "execution_count": 10,
   "metadata": {},
   "outputs": [],
   "source": [
    "import random\n",
    "import os\n",
    "import shutil\n",
    "\n",
    "output_data_dir = \"./data/256_ObjectCategoriesSplit\"\n",
    "\n",
    "if not os.path.exists(output_data_dir):\n",
    "    os.mkdir(output_data_dir)\n",
    "    train_data_dir = os.path.join(output_data_dir, 'train')\n",
    "    val_data_dir = os.path.join(output_data_dir, 'valid')\n",
    "    os.mkdir(train_data_dir)\n",
    "    os.mkdir(val_data_dir)\n",
    "    \n",
    "    dirnames = os.listdir(path)\n",
    "    for dirname in dirnames:\n",
    "        # print(dirname)\n",
    "            \n",
    "        dirname_complete = os.path.join(path, dirname)\n",
    "        filenames = os.listdir(dirname_complete)\n",
    "        filenames = [os.path.join(dirname_complete, f) for f in filenames if f.endswith('.jpg')]\n",
    "        random.seed(123)\n",
    "        filenames.sort()\n",
    "        random.shuffle(filenames)\n",
    "\n",
    "        split = int(0.8 * len(filenames))\n",
    "        train_filenames = filenames[:split]\n",
    "        # train_filenames = [os.path.join(dirname, f) for f in train_filenames if f.endswith('.jpg')]\n",
    "        val_filenames = filenames[split:]\n",
    "        # val_filenames = [os.path.join(dirname, f) for f in val_filenames if f.endswith('.jpg')]\n",
    "            \n",
    "        train_img_dirname = os.path.join(output_data_dir, 'train', dirname)\n",
    "        os.mkdir(train_img_dirname)\n",
    "        val_img_dirname = os.path.join(output_data_dir, 'valid', dirname)\n",
    "        os.mkdir(val_img_dirname)\n",
    "            \n",
    "        for filename in val_filenames:\n",
    "            # print filename\n",
    "            shutil.copy2(filename, val_img_dirname)\n",
    "        for filename in train_filenames:\n",
    "            shutil.copy2(filename, train_img_dirname)\n",
    "else:\n",
    "    print(\"Warning: output dir {} already exists\".format(output_data_dir))"
   ]
  },
  {
   "cell_type": "code",
   "execution_count": 11,
   "metadata": {},
   "outputs": [
    {
     "name": "stdout",
     "output_type": "stream",
     "text": [
      "There are 24385 files in train directory.\n"
     ]
    }
   ],
   "source": [
    "train_path = './data/256_ObjectCategoriesSplit/train'\n",
    "x = 0\n",
    "for root, dirs, files in os.walk(train_path):\n",
    "    for f in files:\n",
    "        x += 1\n",
    "print(f\"There are {x} files in train directory.\")"
   ]
  },
  {
   "cell_type": "code",
   "execution_count": null,
   "metadata": {},
   "outputs": [],
   "source": []
  }
 ],
 "metadata": {
  "kernelspec": {
   "display_name": "Python 3",
   "language": "python",
   "name": "python3"
  },
  "language_info": {
   "codemirror_mode": {
    "name": "ipython",
    "version": 3
   },
   "file_extension": ".py",
   "mimetype": "text/x-python",
   "name": "python",
   "nbconvert_exporter": "python",
   "pygments_lexer": "ipython3",
   "version": "3.6.6"
  },
  "toc": {
   "base_numbering": 1,
   "nav_menu": {},
   "number_sections": false,
   "sideBar": true,
   "skip_h1_title": false,
   "title_cell": "Table of Contents",
   "title_sidebar": "Contents",
   "toc_cell": false,
   "toc_position": {},
   "toc_section_display": true,
   "toc_window_display": false
  }
 },
 "nbformat": 4,
 "nbformat_minor": 2
}
